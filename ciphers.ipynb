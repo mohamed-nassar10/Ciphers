{
  "cells": [
    {
      "cell_type": "code",
      "execution_count": null,
      "metadata": {
        "id": "5XgKTMRwUHu6"
      },
      "outputs": [],
      "source": [
        "# inspired by lazyprogrammer\n",
        "\n",
        "\n",
        "import numpy as np\n",
        "import matplotlib.pyplot as plt\n",
        "\n",
        "import string\n",
        "import random\n",
        "import re\n",
        "import textwrap\n",
        "\n"
      ]
    },
    {
      "cell_type": "code",
      "execution_count": null,
      "metadata": {
        "id": "zMrtqw5DUNp3"
      },
      "outputs": [],
      "source": [
        "\n",
        "letters1 = list(string.ascii_lowercase)\n",
        "letters2 = list(string.ascii_lowercase)\n",
        "\n",
        "true_mapping = {}\n",
        "\n",
        "random.shuffle(letters2)\n",
        "\n",
        "for k, v in zip(letters1, letters2):\n",
        "  true_mapping[k] = v\n",
        "  "
      ]
    },
    {
      "cell_type": "code",
      "execution_count": null,
      "metadata": {
        "id": "IyAGzd5iUQ_W"
      },
      "outputs": [],
      "source": [
        "M = np.ones((26, 26))\n",
        "\n",
        "pi = np.zeros(26)\n",
        "\n",
        "def update_transition(ch1, ch2):\n",
        "  '''\n",
        "  ord('a') = 97, ord('b') = 98, ...\n",
        "  \n",
        "  '''\n",
        "  i = ord(ch1) - 97\n",
        "  j = ord(ch2) - 97\n",
        "  M[i,j] += 1\n",
        "\n",
        "\n",
        "def update_pi(ch):\n",
        "  '''\n",
        "  update the initial state distribution\n",
        "  '''\n",
        "\n",
        "  i = ord(ch) - 97\n",
        "  pi[i] += 1\n",
        "\n",
        "\n",
        "\n",
        "def get_word_prob(word):\n",
        "  '''\n",
        "  get the log-probability of a word / token\n",
        "  '''\n",
        "  i = ord(word[0]) - 97\n",
        "  logp = np.log(pi[i])\n",
        "\n",
        "  for ch in word[1:]:\n",
        "    j = ord(ch) - 97\n",
        "    logp += np.log(M[i, j])    # update prob\n",
        "    \n",
        "    i = j    # update j\n",
        "\n",
        "\n",
        "  return logp\n",
        "\n",
        "\n",
        "\n",
        "\n",
        "def get_sequence_prob(words):\n",
        "  '''\n",
        "  get the probability of a sequence of words\n",
        "  '''\n",
        "\n",
        "  if type(words) == str:    # if input is a string, split into an array of tokens\n",
        "    words = words.split()\n",
        "\n",
        "  logp = 0\n",
        "  for word in words:\n",
        "    logp += get_word_prob(word)\n",
        "\n",
        "\n",
        "  return logp\n",
        "\n",
        "  "
      ]
    },
    {
      "cell_type": "code",
      "execution_count": null,
      "metadata": {
        "id": "PxacIxtyUZFd"
      },
      "outputs": [],
      "source": [
        "# model based on an English dataset https://www.gutenberg.org/ebooks/2701\n",
        "\n",
        "\n",
        "regex = re.compile('[^a-zA-Z]')\n",
        "\n",
        "for line in open('moby_dick.txt'):\n",
        "  line = line.rstrip()\n",
        "\n",
        "  if line:\n",
        "    line = regex.sub(' ', line) # replace non-alpha characters with space\n",
        "\n",
        "    tokens = line.lower().split()\n",
        "\n",
        "    for token in tokens:\n",
        "\n",
        "      ch0 = token[0]\n",
        "      update_pi(ch0)\n",
        "\n",
        "      for ch1 in token[1:]:\n",
        "        update_transition(ch0, ch1)\n",
        "        ch0 = ch1\n",
        "\n",
        "\n",
        "\n",
        "pi /= pi.sum()\n",
        "M /= M.sum(axis=1, keepdims=True)"
      ]
    },
    {
      "cell_type": "code",
      "execution_count": null,
      "metadata": {
        "id": "3FxNj6V2UdM3"
      },
      "outputs": [],
      "source": [
        "### encode a message\n",
        "\n",
        "# this is a random excerpt from Project Gutenberg's\n",
        "# The Adventures of Sherlock Holmes, by Arthur Conan Doyle\n",
        "# https://www.gutenberg.org/ebooks/1661\n",
        "\n",
        "original_message = '''I then lounged down the street and found,\n",
        "as I expected, that there was a mews in a lane which runs down\n",
        "by one wall of the garden. I lent the ostlers a hand in rubbing\n",
        "down their horses, and received in exchange twopence, a glass of\n",
        "half-and-half, two fills of shag tobacco, and as much information\n",
        "as I could desire about Miss Adler, to say nothing of half a dozen\n",
        "other people in the neighbourhood in whom I was not in the least\n",
        "interested, but whose biographies I was compelled to listen to.\n",
        "'''\n",
        "\n",
        "# Away they went, and I was just wondering whether I should not do well\n",
        "# to follow them when up the lane came a neat little landau, the coachman\n",
        "# with his coat only half-buttoned, and his tie under his ear, while all\n",
        "# the tags of his harness were sticking out of the buckles. It hadn't\n",
        "# pulled up before she shot out of the hall door and into it. I only\n",
        "# caught a glimpse of her at the moment, but she was a lovely woman, with\n",
        "# a face that a man might die for.\n",
        "\n",
        "# My cabby drove fast. I don't think I ever drove faster, but the others\n",
        "# were there before us. The cab and the landau with their steaming horses\n",
        "# were in front of the door when I arrived. I paid the man and hurried\n",
        "# into the church. There was not a soul there save the two whom I had\n",
        "# followed and a surpliced clergyman, who seemed to be expostulating with\n",
        "# them. They were all three standing in a knot in front of the altar. I\n",
        "# lounged up the side aisle like any other idler who has dropped into a\n",
        "# church. Suddenly, to my surprise, the three at the altar faced round to\n",
        "# me, and Godfrey Norton came running as hard as he could towards me."
      ]
    },
    {
      "cell_type": "code",
      "execution_count": null,
      "metadata": {
        "id": "LRuQ15YJUgDm"
      },
      "outputs": [],
      "source": [
        "def encode_message(msg):\n",
        "\n",
        "  msg = msg.lower()\n",
        "\n",
        "  msg = regex.sub(' ', msg)\n",
        "\n",
        "  coded_msg = []\n",
        "  \n",
        "\n",
        "  for ch in msg:\n",
        "  \n",
        "    coded_ch = ch    # could just be a space\n",
        "  \n",
        "    if ch in true_mapping:\n",
        "      coded_ch = true_mapping[ch]\n",
        "  \n",
        "    coded_msg.append(coded_ch)\n",
        "\n",
        "  \n",
        "  \n",
        "  return ''.join(coded_msg)\n",
        "\n",
        "\n",
        "\n",
        "encoded_message = encode_message(original_message)\n",
        "\n",
        "\n",
        "\n",
        "\n",
        "\n",
        "def decode_message(msg, word_map):\n",
        "\n",
        "  decoded_msg = []\n",
        "\n",
        "  \n",
        "  for ch in msg:\n",
        "\n",
        "    decoded_ch = ch    # could just be a space\n",
        "\n",
        "    if ch in word_map:\n",
        "      decoded_ch = word_map[ch]\n",
        "\n",
        "    decoded_msg.append(decoded_ch)\n",
        "\n",
        "\n",
        "  return ''.join(decoded_msg)\n",
        "\n",
        "  "
      ]
    },
    {
      "cell_type": "code",
      "execution_count": null,
      "metadata": {
        "id": "Ogy2tFp2UjEW"
      },
      "outputs": [],
      "source": [
        "dna_pool = []\n",
        "\n",
        "for _ in range(20):\n",
        "  dna = list(string.ascii_lowercase)\n",
        "  random.shuffle(dna)\n",
        "  dna_pool.append(dna)\n",
        "  "
      ]
    },
    {
      "cell_type": "code",
      "execution_count": null,
      "metadata": {
        "id": "rHjSLs-OU33M"
      },
      "outputs": [],
      "source": [
        "def evolve_offspring(dna_pool, n_children):\n",
        "  '''\n",
        "  make n_children per offspring\n",
        "  '''\n",
        "\n",
        "  offspring = []\n",
        "\n",
        "\n",
        "  for dna in dna_pool:\n",
        "\n",
        "    for _ in range(n_children):\n",
        "      copy = dna.copy()\n",
        "      j = np.random.randint(len(copy))\n",
        "      k = np.random.randint(len(copy))\n",
        "\n",
        "      # switch\n",
        "      tmp = copy[j]\n",
        "      copy[j] = copy[k]\n",
        "      copy[k] = tmp\n",
        "      offspring.append(copy)\n",
        "\n",
        "  \n",
        "  return offspring + dna_pool\n",
        "  "
      ]
    },
    {
      "cell_type": "code",
      "execution_count": null,
      "metadata": {
        "colab": {
          "base_uri": "https://localhost:8080/",
          "height": 102
        },
        "id": "C6lnKzJkUnzn",
        "outputId": "e13c50fe-d20e-43ee-e8bb-c82ffe5bda85"
      },
      "outputs": [
        {
          "name": "stdout",
          "output_type": "stream",
          "text": [
            "iter: 0 score: -2136.334228511687 best so far: -1735.0835257473207\n",
            "iter: 200 score: -1038.8702227344431 best so far: -969.4054109146934\n",
            "iter: 400 score: -1017.3522706780808 best so far: -929.9491082513806\n",
            "iter: 600 score: -1024.4485752576193 best so far: -929.5902922650557\n",
            "iter: 800 score: -995.3727584046848 best so far: -929.5902922650557\n"
          ]
        }
      ],
      "source": [
        "num_iters = 1000\n",
        "scores = np.zeros(num_iters)\n",
        "\n",
        "best_dna = None\n",
        "best_map = None\n",
        "best_score = float('-inf')\n",
        "\n",
        "for i in range(num_iters):\n",
        "  if i > 0:\n",
        "    dna_pool = evolve_offspring(dna_pool, 3)    # get offspring from the current dna pool\n",
        "\n",
        "  dna2score = {}\n",
        "  for dna in dna_pool:\n",
        "    current_map = {}\n",
        "    for k, v in zip(letters1, dna):\n",
        "      current_map[k] = v\n",
        "\n",
        "    decoded_message = decode_message(encoded_message, current_map)\n",
        "    score = get_sequence_prob(decoded_message)\n",
        "\n",
        "    dna2score[''.join(dna)] = score\n",
        "\n",
        "    if score > best_score:\n",
        "      best_dna = dna\n",
        "      best_map = current_map\n",
        "      best_score = score\n",
        "\n",
        "  scores[i] = np.mean(list(dna2score.values()))\n",
        "\n",
        "  \n",
        "  sorted_dna = sorted(dna2score.items(), key=lambda x: x[1], reverse=True)\n",
        "  dna_pool = [list(k) for k, v in sorted_dna[:5]]  # keep the best 5 dna and convert into list of single chars\n",
        "\n",
        "\n",
        "  if i % 200 == 0:\n",
        "    print(\"iter:\", i, \"score:\", scores[i], \"best so far:\", best_score)\n",
        "\n"
      ]
    },
    {
      "cell_type": "code",
      "execution_count": null,
      "metadata": {
        "colab": {
          "base_uri": "https://localhost:8080/",
          "height": 102
        },
        "id": "TBI4r2roUqP9",
        "outputId": "b215627b-1f64-4006-af25-abca5c096406"
      },
      "outputs": [
        {
          "name": "stdout",
          "output_type": "stream",
          "text": [
            "LL of decoded message: -929.5902922650557\n",
            "LL of true message: -933.0312453751817\n",
            "true: k, pred: q\n",
            "true: q, pred: z\n",
            "true: z, pred: k\n"
          ]
        }
      ],
      "source": [
        "decoded_message = decode_message(encoded_message, best_map)\n",
        "\n",
        "print(\"LL of decoded message:\", get_sequence_prob(decoded_message))\n",
        "print(\"LL of true message:\", get_sequence_prob(regex.sub(' ', original_message.lower())))\n",
        "\n",
        "\n",
        "for true, v in true_mapping.items():\n",
        "  pred = best_map[v]\n",
        "  if true != pred:\n",
        "    print(f\"true: {true}, pred: {pred}\")\n",
        "    "
      ]
    },
    {
      "cell_type": "code",
      "execution_count": null,
      "metadata": {
        "colab": {
          "base_uri": "https://localhost:8080/",
          "height": 357
        },
        "id": "cZqTut0mU-6S",
        "outputId": "0dab349d-218b-475b-919e-d813a7626d5c"
      },
      "outputs": [
        {
          "name": "stdout",
          "output_type": "stream",
          "text": [
            "Decoded message:\n",
            " i then lounged down the street and found  as i expected  that there\n",
            "was a mews in a lane which runs down by one wall of the garden  i lent\n",
            "the ostlers a hand in rubbing down their horses  and received in\n",
            "exchange twopence  a glass of half and half  two fills of shag tobacco\n",
            "and as much information as i could desire about miss adler  to say\n",
            "nothing of half a doken other people in the neighbourhood in whom i\n",
            "was not in the least interested  but whose biographies i was compelled\n",
            "to listen to\n",
            "\n",
            "True message:\n",
            " I then lounged down the street and found,\n",
            "as I expected, that there was a mews in a lane which runs down\n",
            "by one wall of the garden. I lent the ostlers a hand in rubbing\n",
            "down their horses, and received in exchange twopence, a glass of\n",
            "half-and-half, two fills of shag tobacco, and as much information\n",
            "as I could desire about Miss Adler, to say nothing of half a dozen\n",
            "other people in the neighbourhood in whom I was not in the least\n",
            "interested, but whose biographies I was compelled to listen to.\n",
            "\n"
          ]
        }
      ],
      "source": [
        "print(\"Decoded message:\\n\", textwrap.fill(decoded_message))\n",
        "\n",
        "print(\"\\nTrue message:\\n\", original_message)\n"
      ]
    },
    {
      "cell_type": "code",
      "execution_count": null,
      "metadata": {
        "colab": {
          "base_uri": "https://localhost:8080/",
          "height": 265
        },
        "id": "3CycJAYFVfoW",
        "outputId": "8714691d-1873-4eb6-9170-5308b40998bc"
      },
      "outputs": [
        {
          "data": {
            "image/png": "[encoded data removed]",
            "text/plain": [
              "<Figure size 432x288 with 1 Axes>"
            ]
          },
          "metadata": {
            "tags": []
          },
          "output_type": "display_data"
        }
      ],
      "source": [
        "plt.plot(scores)\n",
        "plt.show()"
      ]
    }
  ],
  "metadata": {
    "colab": {
      "name": "Cipher.ipynb",
      "provenance": []
    },
    "kernelspec": {
      "display_name": "Python 3",
      "name": "python3"
    }
  },
  "nbformat": 4,
  "nbformat_minor": 0
}
